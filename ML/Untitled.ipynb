{
 "cells": [
  {
   "cell_type": "code",
   "execution_count": 1,
   "metadata": {},
   "outputs": [],
   "source": [
    "from data import *\n",
    "import sys\n",
    "import time\n",
    "import math\n",
    "import re\n",
    "import pickle\n",
    "import numpy as np\n",
    "from sklearn.cluster import KMeans\n",
    "from sklearn.metrics import mean_squared_error\n",
    "\n",
    "user = []\n",
    "item = []\n",
    "rating = []\n",
    "\n",
    "d = Dataset()\n",
    "d.load_items(\"allmovies.txt\", item)\n",
    "d.load_users(\"users.txt\", user)\n",
    "d.load_ratings(\"ratings.txt\", rating)\n",
    "\n",
    "\n",
    "n_users = len(user)\n",
    "n_items = len(item)\n"
   ]
  },
  {
   "cell_type": "code",
   "execution_count": 3,
   "metadata": {},
   "outputs": [],
   "source": [
    "utility = np.zeros((n_users, n_items))\n",
    "for r in rating:\n",
    "    utility[r.user_id - 1][r.item_id - 1] = r.rating"
   ]
  },
  {
   "cell_type": "code",
   "execution_count": 8,
   "metadata": {},
   "outputs": [
    {
     "name": "stdout",
     "output_type": "stream",
     "text": [
      "[ 0.  0.  0. ...,  0.  0.  0.]\n",
      "[ 9.  0.  0. ...,  0.  0.  0.]\n",
      "[ 9.  0.  0. ...,  0.  0.  0.]\n",
      "[ 0.  0.  0. ...,  0.  0.  0.]\n"
     ]
    }
   ],
   "source": [
    "for i in utility:\n",
    "    print(i)"
   ]
  },
  {
   "cell_type": "code",
   "execution_count": 11,
   "metadata": {},
   "outputs": [
    {
     "data": {
      "text/plain": [
       "array([ 1,  4,  8, ..., 14, 11,  2], dtype=int32)"
      ]
     },
     "execution_count": 11,
     "metadata": {},
     "output_type": "execute_result"
    }
   ],
   "source": [
    "movie_genre = []\n",
    "for movie in item:\n",
    "    movie_genre.append([movie.action, movie.adventure, movie.animation, movie.comedy,\n",
    "                        movie.crime, movie.documentary, movie.drama, movie.family,\n",
    "                        movie.fantasy, movie.history, movie.horror, movie.musical, \n",
    "                        movie.mystery, movie.romance, movie.sci_fi, movie.tv_movie, \n",
    "                        movie.thriller, movie.war, movie.western])\n",
    "\n",
    "movie_genre = np.array(movie_genre)\n",
    "cluster = KMeans(n_clusters=19)\n",
    "((cluster.fit_predict(movie_genre)))"
   ]
  },
  {
   "cell_type": "code",
   "execution_count": 12,
   "metadata": {},
   "outputs": [
    {
     "name": "stdout",
     "output_type": "stream",
     "text": [
      "10131\n"
     ]
    }
   ],
   "source": [
    "print(len(cluster.fit_predict(movie_genre)))"
   ]
  },
  {
   "cell_type": "code",
   "execution_count": 17,
   "metadata": {},
   "outputs": [],
   "source": [
    "\n",
    "utility_clustered = []\n",
    "for i in range(0, n_users):\n",
    "    average = np.zeros(19)\n",
    "    # average = [[ 0,  0,  0,  0,  0,  0,  0,  0,  0,  0,  0,  0,  0, 0,  0,  0,  0,  0,  0]]\n",
    "    tmp = []\n",
    "    for m in range(0, 19):\n",
    "        tmp.append([])\n",
    "        # tmp = [[],[],[],[],[],[],[],[],[],[],[],[],[],[],[],[],[],[],[]]\n",
    "    for j in range(0, n_items):\n",
    "        if utility[i][j] != 0:\n",
    "            tmp[cluster.labels_[j] - 1].append(utility[i][j])\n",
    "        # tmp = [[rate of movies belonging to cluster 0], [rate of movies belonging to cluster 1], ... [rate of movies belonging to cluster 18]]\n",
    "    for m in range(0, 19):\n",
    "        if len(tmp[m]) != 0:\n",
    "            average[m] = np.mean(tmp[m])\n",
    "        else:\n",
    "            average[m] = 0\n",
    "    utility_clustered.append(average)\n",
    "utility_clustered = np.array(utility_clustered)"
   ]
  },
  {
   "cell_type": "code",
   "execution_count": 23,
   "metadata": {},
   "outputs": [
    {
     "name": "stdout",
     "output_type": "stream",
     "text": [
      "0\n",
      "5.125\n",
      "7.06964285714\n",
      "7.4\n"
     ]
    }
   ],
   "source": [
    "for i in range(0, n_users):\n",
    "    x = utility_clustered[i]\n",
    "    num = sum(a for a in x if a > 0)\n",
    "    den = sum(a > 0 for a in x)\n",
    "    if den == 0:\n",
    "        user[i].avg_r = 0\n",
    "    else:\n",
    "        user[i].avg_r = num/den \n",
    "    print(user[i].avg_r)"
   ]
  },
  {
   "cell_type": "code",
   "execution_count": 38,
   "metadata": {},
   "outputs": [],
   "source": [
    "def pcs(x, y):\n",
    "    num = 0\n",
    "    den1 = 0\n",
    "    den2 = 0\n",
    "    A = utility_clustered[x - 1]\n",
    "    B = utility_clustered[y - 1]\n",
    "    num = sum((a - user[x - 1].avg_r) * (b - user[y - 1].avg_r) for a, b in zip(A, B) if a > 0 and b > 0)\n",
    "    den1 = sum((a - user[x - 1].avg_r) ** 2 for a in A if a > 0)\n",
    "    den2 = sum((b - user[y - 1].avg_r) ** 2 for b in B if b > 0)\n",
    "    den = (den1 ** 0.5) * (den2 ** 0.5)\n",
    "    if den == 0:\n",
    "        return 0\n",
    "    else:\n",
    "        return num / den\n",
    "pcs_matrix = np.zeros((n_users, n_users))\n",
    "for i in range(0, n_users):\n",
    "    for j in range(0, n_users):\n",
    "        if i!=j:\n",
    "            pcs_matrix[i][j] = pcs(i + 1, j + 1)\n"
   ]
  },
  {
   "cell_type": "code",
   "execution_count": 39,
   "metadata": {},
   "outputs": [
    {
     "data": {
      "text/plain": [
       "array([[ 0.        ,  0.        ,  0.        ,  0.        ],\n",
       "       [ 0.        ,  0.        ,  0.62014004, -0.46598257],\n",
       "       [ 0.        ,  0.62014004,  0.        , -0.32321283],\n",
       "       [ 0.        , -0.46598257, -0.32321283,  0.        ]])"
      ]
     },
     "execution_count": 39,
     "metadata": {},
     "output_type": "execute_result"
    }
   ],
   "source": [
    "pcs_matrix"
   ]
  },
  {
   "cell_type": "code",
   "execution_count": null,
   "metadata": {},
   "outputs": [],
   "source": []
  }
 ],
 "metadata": {
  "kernelspec": {
   "display_name": "Python 3",
   "language": "python",
   "name": "python3"
  },
  "language_info": {
   "codemirror_mode": {
    "name": "ipython",
    "version": 3
   },
   "file_extension": ".py",
   "mimetype": "text/x-python",
   "name": "python",
   "nbconvert_exporter": "python",
   "pygments_lexer": "ipython3",
   "version": "3.5.2"
  }
 },
 "nbformat": 4,
 "nbformat_minor": 2
}
